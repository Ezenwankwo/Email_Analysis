{
 "cells": [
  {
   "cell_type": "markdown",
   "metadata": {},
   "source": [
    "## EMAIL PARSING"
   ]
  },
  {
   "cell_type": "markdown",
   "metadata": {},
   "source": [
    "### For this project, I will be getting and parsing data from Gmail. Specifically, the Email Header.\n",
    "### In order for this script to work perfecrtly, we will be using IMAP functionality of mail and imaplib of python. The following steps are necessary:\n",
    "##### 1. Enable IMAP from Gmail settings\n",
    "##### 2. Save changes\n",
    "##### 3. Allow less secure app from Sign-in and Security"
   ]
  },
  {
   "cell_type": "code",
   "execution_count": null,
   "metadata": {},
   "outputs": [],
   "source": [
    "\"\"\"\n",
    "    imaplib: is an Internet Message Access Protocol (IMAP) library\n",
    "    email: is a python library that parses, handles and generates email messages.\n",
    "    getpass: is a python library used to get password without echoing\n",
    "    pandas: is a python library for data manipulation and analysis\n",
    "    re: is a library that handles regular expression\n",
    "    wordcloud: is used for visualization\n",
    "    matplotlib: handles 2D plts\n",
    "    pprint module helps pretty-print i.e fine-tune the output.\"\"\"\n",
    "\n",
    "# Import necessary Libraries\n",
    "import imaplib \n",
    "import email\n",
    "import getpass\n",
    "import pandas as pd\n",
    "import re\n",
    "from wordcloud import WordCloud, STOPWORDS\n",
    "import matplotlib.pyplot as plt\n",
    "from pprint import pprint"
   ]
  },
  {
   "cell_type": "code",
   "execution_count": null,
   "metadata": {},
   "outputs": [],
   "source": [
    "# Get username(Gmail account name) and password\n",
    "\n",
    "username = input(\"Username: \")\n",
    "password = getpass.getpass(\"Password: \")"
   ]
  },
  {
   "cell_type": "code",
   "execution_count": null,
   "metadata": {},
   "outputs": [],
   "source": [
    "# Start the server\n",
    "\n",
    "mail = imaplib.IMAP4_SSL('imap.gmail.com')#EMAIL SERVER\n",
    "mail.login(username, password)"
   ]
  },
  {
   "cell_type": "code",
   "execution_count": null,
   "metadata": {},
   "outputs": [],
   "source": [
    "# Get mail\n",
    "# List all the the available mailboxes of the account\n",
    "\n",
    "\"\"\"Note: mail.list returns a tuple i.e the response type and its data\"\"\"\n",
    "\n",
    "response_type, mailboxes = mail.list()\n",
    "pprint(mailboxes)\n",
    "\n",
    "#select required mailbox\n",
    "#mail.select('\"[Gmail]/All Mail\"')\n",
    "\n",
    "mail.select() #or mail.select(\"INBOX\") since Inbox is the default"
   ]
  },
  {
   "cell_type": "code",
   "execution_count": null,
   "metadata": {},
   "outputs": [],
   "source": [
    "# Get unique id (uid) of the messages in the selected mailbox\n",
    "\n",
    "result, numbers = mail.uid('search', None, \"ALL\")\n",
    "\"\"\" ALL/UNSEEN for all the messages or unread messages..\"None\" because the charset is not specified\"\"\"\n",
    "\n",
    "uids = numbers[0].split() #numbers is a list of space separated string\n",
    "\n",
    "#default is from oldest to newest; hence to access first 100 mail (newest) use the code below\n",
    "latest_mails_uids = uids[-1:-101:-1]\n",
    "\n",
    "# Decode each of the latest_mails_uids\n",
    "decode_uids = [id.decode(\"utf-8\") for id in latest_mails_uids]\n",
    "\n"
   ]
  },
  {
   "cell_type": "code",
   "execution_count": null,
   "metadata": {},
   "outputs": [],
   "source": [
    "# Let's fetch the Header of the mail based on the uids\n",
    "\n",
    "\"\"\"Fetches can include the entire email body, or \n",
    "    any combination of results such as email flags (seen/unseen) \n",
    "    or gmail specific IDs\"\"\"\n",
    "\n",
    "# Note: to fetch the header key (subject and date) of the mail use (BODY[HEADER.FIELDS (DATE SUBJECT)]])')\n",
    "#To prevent messsages that has not bn read from opening use '(BODY.PEEK[...])'\n",
    "\n",
    "\"\"\"result, messages = mail.uid('fetch', ','.join(decode_uids), '(BODY[])') #RFC822\"\"\"\n",
    "\n",
    "result, messages = mail.uid('fetch', ','.join(decode_uids), '(BODY.PEEK[HEADER.FIELDS (DATE FROM SUBJECT)])') #RFC822"
   ]
  },
  {
   "cell_type": "code",
   "execution_count": null,
   "metadata": {},
   "outputs": [],
   "source": [
    "date_list = []\n",
    "from_list = []\n",
    "subject_list = []\n",
    "\n",
    "\n",
    "for response in messages:\n",
    "    if isinstance(response, tuple):\n",
    "        \"\"\"parse a bytes email into a message object\"\"\"\n",
    "        msg = email.message_from_bytes(response[1])\n",
    "        \n",
    "        #get the header details\n",
    "        subject_list.append(msg.get('subject'))\n",
    "        date_list.append(msg.get('date'))\n",
    "        from_list.append(msg.get('from'))\n",
    "\n",
    "            \n",
    "print(len(date_list))\n",
    "print(len(from_list))\n",
    "print(len(subject_list))\n",
    "\n",
    "date_list = pd.to_datetime(date_list)\n",
    " \n",
    "#Capture the sender email \n",
    "sender_mail = []\n",
    "for i in from_list:\n",
    "    extract_mail = re.findall(\"<\\w+@\\w+.\\w+>\", i)\n",
    "    extract_mail = [s.strip(\"<>\") for s in extract_mail]\n",
    "    extract_mail = \"\".join(extract_mail[:])\n",
    "    if len(extract_mail) == 0:\n",
    "        sender_mail.append(\"Via Linkedin\")\n",
    "    else:\n",
    "        sender_mail.append(extract_mail)\n",
    "\n",
    "        \n",
    "#capture sender name\n",
    "sender_name = []\n",
    "for i in from_list:\n",
    "    extract_name = re.findall(\"\\w+[^<\\w+@\\w+.\\w+>]\", i)\n",
    "    extract_name = [s.strip(\"[\\\"viaLinkedInmessaging-gest-rco]\") for s in extract_name]\n",
    "    extract_name = \"\".join(extract_name[:])\n",
    "\n",
    "    sender_name.append(extract_name)\n",
    "    \n",
    "df = pd.DataFrame(data ={\"Date\": date_list, \"Sender Name\": sender_name, \"Sender Email\": sender_mail, \"Subject\": subject_list})\n",
    "df[\"Date\"] = df['Date'].apply(lambda x:x.date())\n",
    "# to capture time alone..use .time()\n",
    "\n",
    "\n",
    "df.to_csv('inbox_email.csv',index=False)\n",
    "df.head(10) "
   ]
  },
  {
   "cell_type": "code",
   "execution_count": null,
   "metadata": {},
   "outputs": [],
   "source": [
    "#To access the statistical data of the dataframe use describe()\n",
    "df.describe()"
   ]
  },
  {
   "cell_type": "code",
   "execution_count": null,
   "metadata": {
    "scrolled": true
   },
   "outputs": [],
   "source": [
    "#plot the wordcloud \n",
    "\n",
    "text = \"\"\n",
    "for item in df[\"Subject\"]:\n",
    "    if isinstance(item, str):\n",
    "        text += \" \" + item\n",
    "\n",
    "wordcloud = WordCloud(background_color = \"white\",\n",
    "                      mask = None,\n",
    "                      colormap = \"nipy_spectral_r\",\n",
    "                      stopwords = STOPWORDS).generate(text)\n",
    "\n",
    "# Display the generated image:\n",
    "plt.imshow(wordcloud, interpolation='bilinear')\n",
    "plt.axis(\"off\")\n",
    "plt.show()"
   ]
  },
  {
   "cell_type": "code",
   "execution_count": null,
   "metadata": {},
   "outputs": [],
   "source": [
    "#save the plotted wordcloud\n",
    "wordcloud.to_file(\"emailCloud.png\")"
   ]
  },
  {
   "cell_type": "markdown",
   "metadata": {},
   "source": [
    "#### ...and viola, we've been able to generate our data and plot the keywords in a wordcloud. However, there's no limit to what you can do with these data. It is all yours!! Your world to explore!!! \n",
    "\n",
    "##### Thanks for your time. Stay Blessed"
   ]
  }
 ],
 "metadata": {
  "kernelspec": {
   "display_name": "Python 3",
   "language": "python",
   "name": "python3"
  },
  "language_info": {
   "codemirror_mode": {
    "name": "ipython",
    "version": 3
   },
   "file_extension": ".py",
   "mimetype": "text/x-python",
   "name": "python",
   "nbconvert_exporter": "python",
   "pygments_lexer": "ipython3",
   "version": "3.7.3"
  }
 },
 "nbformat": 4,
 "nbformat_minor": 2
}
